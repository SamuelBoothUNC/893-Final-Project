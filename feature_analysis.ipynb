{
 "cells": [
  {
   "cell_type": "code",
   "execution_count": 1,
   "metadata": {},
   "outputs": [],
   "source": [
    "import pandas as pd\n",
    "import numpy as np\n",
    "from ast import literal_eval as make_tuple\n",
    "import os"
   ]
  },
  {
   "cell_type": "markdown",
   "metadata": {},
   "source": [
    "### Read all relevant data files 🦋"
   ]
  },
  {
   "cell_type": "code",
   "execution_count": 2,
   "metadata": {},
   "outputs": [],
   "source": [
    "days = [\"p2\", \"p3\", \"p4\", \"p5\", \"p6\", \"p7\"]\n",
    "filepath = \"validation_data/feature_extraction/feature/\"\n",
    "alldata = [pd.read_excel(\"{}{}_alldata.xlsx\".format(filepath,x), \n",
    "                         sheet_name=\"Sheet1\", engine='openpyxl') for x in days]\n",
    "degree = [pd.read_excel(\"{}{}_degreedata.xlsx\".format(filepath,x), \n",
    "                        sheet_name=\"Sheet1\", engine='openpyxl') for x in days]"
   ]
  },
  {
   "cell_type": "markdown",
   "metadata": {},
   "source": [
    "### Generate np arrays\n",
    "Returns list of centered np arrays, where each array corresponds to a day."
   ]
  },
  {
   "cell_type": "code",
   "execution_count": 3,
   "metadata": {},
   "outputs": [],
   "source": [
    "arrays_by_day = []\n",
    "for df in degree:\n",
    "    to_array = [make_tuple(x) for x in df[\"nodes\"]]\n",
    "    coords = np.array(to_array)\n",
    "    coords = coords - np.mean(coords, axis=0)\n",
    "    arrays_by_day.append(coords)"
   ]
  },
  {
   "cell_type": "code",
   "execution_count": 4,
   "metadata": {},
   "outputs": [
    {
     "name": "stdout",
     "output_type": "stream",
     "text": [
      "[-0.  0.]\n",
      "[ 0. -0.]\n",
      "[0. 0.]\n",
      "[-0. -0.]\n",
      "[-0. -0.]\n",
      "[0. 0.]\n"
     ]
    }
   ],
   "source": [
    "# Verify that the data is centered\n",
    "for a in arrays_by_day:\n",
    "    print(sum(a).round(6))"
   ]
  },
  {
   "cell_type": "markdown",
   "metadata": {},
   "source": [
    "### Generate edge list with weights 🐙\n",
    "Output: 'i j weight' where $i,j\\in \\mathbb{Z}$"
   ]
  },
  {
   "cell_type": "code",
   "execution_count": 8,
   "metadata": {},
   "outputs": [],
   "source": [
    "# map nodes to integers using row index of degreedata.xlsx\n",
    "weight = \"width\" # try \"width\" or \"length\"\n",
    "edges = []\n",
    "for i in range(len(alldata)):\n",
    "    node_list = list(degree[i][\"nodes\"])\n",
    "    node1 = [node_list.index(x)+1 for x in alldata[i][\"node1\"]]\n",
    "    node2 = [node_list.index(x)+1 for x in alldata[i][\"node2\"]]\n",
    "    df = pd.DataFrame([node1,node2,alldata[i][weight]])\n",
    "    df = df.astype(str)\n",
    "    df = df.replace(to_replace = \"\\.0+$\",value = \"\", regex = True)\n",
    "    edges.append(df.T)"
   ]
  },
  {
   "cell_type": "code",
   "execution_count": 9,
   "metadata": {},
   "outputs": [],
   "source": [
    "# writes to txt files in new folder \"matlab_input\"\n",
    "if not os.path.exists('./matlab_input'):\n",
    "    os.mkdir('./matlab_input')\n",
    "for i in range(len(edges)):\n",
    "    edges[i].to_csv(r'matlab_input/{}_weighted.txt'.format(days[i]),index=False,sep=\" \",header=False)"
   ]
  },
  {
   "cell_type": "code",
   "execution_count": null,
   "metadata": {},
   "outputs": [],
   "source": []
  }
 ],
 "metadata": {
  "kernelspec": {
   "display_name": "Python 3",
   "language": "python",
   "name": "python3"
  },
  "language_info": {
   "codemirror_mode": {
    "name": "ipython",
    "version": 3
   },
   "file_extension": ".py",
   "mimetype": "text/x-python",
   "name": "python",
   "nbconvert_exporter": "python",
   "pygments_lexer": "ipython3",
   "version": "3.8.5"
  }
 },
 "nbformat": 4,
 "nbformat_minor": 4
}
